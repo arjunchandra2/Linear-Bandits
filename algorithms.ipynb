{
 "cells": [
  {
   "cell_type": "code",
   "execution_count": 2,
   "metadata": {},
   "outputs": [],
   "source": [
    "import numpy as np\n",
    "import matplotlib.pyplot as plt\n",
    "from tqdm import tqdm\n",
    "from scipy.optimize import minimize\n",
    "import cvxpy as cp\n",
    "np.random.seed(592)"
   ]
  },
  {
   "cell_type": "markdown",
   "metadata": {},
   "source": [
    "Here is the optimization code to compute the argmax over the continuous action space:"
   ]
  },
  {
   "cell_type": "code",
   "execution_count": 3,
   "metadata": {},
   "outputs": [],
   "source": [
    "def get_objective_function(beta_t, cov, theta_hat):\n",
    "    \n",
    "    def objective_func(a):\n",
    "        a = np.asarray(a)\n",
    "        inner_prod = np.dot(-theta_hat, a)\n",
    "        cov_inv = np.linalg.inv(cov)\n",
    "        bonus_term = np.dot(a, np.dot(cov_inv, a)) * beta_t\n",
    "        total = inner_prod + bonus_term\n",
    "        return total\n",
    "    \n",
    "    return objective_func\n",
    "                           \n",
    "\n",
    "def get_optimal_action_oful_p1(beta_t, cov, theta_hat, d):\n",
    "    \"\"\"\n",
    "    Get the optimal action based on the current estimate of theta and the covariance matrix.\n",
    "    The action a must lie on or within the d-dimensional unit ball: ||a||_2 <= 1.\n",
    "    \"\"\"\n",
    "    # Get the objective function\n",
    "    objective_func = get_objective_function(beta_t, cov, theta_hat)\n",
    "\n",
    "    # Initial guess: unit vector in random direction\n",
    "    a0 = np.random.uniform(-1, 1, d)\n",
    "    # Normalize the initial guess to ensure it starts within the unit ball\n",
    "    a0 /= np.linalg.norm(a0)\n",
    "\n",
    "    # Define the constraint: ||a||_2 <= 1\n",
    "    constraint = {\n",
    "        'type': 'ineq',\n",
    "        'fun': lambda a: 1 - np.linalg.norm(a)  # 1 - ||a||_2 >= 0\n",
    "    }\n",
    "\n",
    "    # Optional: bounds to keep values in a reasonable range (e.g., [-1, 1])\n",
    "    bounds = [(-1, 1) for _ in range(d)]\n",
    "\n",
    "    # Solve the optimization problem\n",
    "    result = minimize(\n",
    "        objective_func,\n",
    "        x0=a0,\n",
    "        bounds=bounds,\n",
    "        method='SLSQP',\n",
    "        constraints=[constraint]\n",
    "    )\n",
    "\n",
    "    if result.success:\n",
    "        return result.x\n",
    "    else:\n",
    "        raise ValueError(\"Optimization failed:\", result.message)\n",
    "\n",
    "def get_optimal_action_oful_p1(beta_t, cov, theta_hat, d, solver=cp.SCS):\n",
    "    \"\"\"\n",
    "    Get the optimal action using cvxpy with specified solver.\n",
    "    \n",
    "    Parameters:\n",
    "    - beta_t: scalar coefficient\n",
    "    - cov: covariance matrix (d x d)\n",
    "    - theta_hat: estimate of theta (d,)\n",
    "    - d: dimensionality of action vector\n",
    "    - solver: cvxpy solver to use (default is cp.SCS)\n",
    "    \"\"\"\n",
    "    a = cp.Variable(d)\n",
    "    cov_inv = np.linalg.inv(cov)\n",
    "\n",
    "    inner_prod = -theta_hat @ a\n",
    "    bonus_term = beta_t * cp.quad_form(a, cov_inv)\n",
    "    objective = cp.Minimize(inner_prod + bonus_term)\n",
    "    constraints = [cp.norm(a, 2) <= 1]\n",
    "\n",
    "    prob = cp.Problem(objective, constraints)\n",
    "    prob.solve(solver=solver)\n",
    "\n",
    "    if a.value is not None:\n",
    "        return a.value\n",
    "    else:\n",
    "        raise ValueError(\"CVXPY optimization failed.\")\n",
    "\n",
    "\n",
    "def get_optimal_action(theta, d):\n",
    "    \"\"\"\n",
    "    Get the optimal action based on theta and action set is the unit ball in d dimensions.\n",
    "    \"\"\"\n",
    "    def objective_func(a):\n",
    "        a = np.asarray(a)\n",
    "        inner_prod = np.dot(theta, a)\n",
    "        return -1 * inner_prod\n",
    " \n",
    "    # Initial guess: unit vector in one direction\n",
    "    a0 = np.zeros(d)\n",
    "    a0[0] = 1.0  # could also try random or uniform initialization\n",
    "\n",
    "    # Define the constraint: ||a||_2 <= 1\n",
    "    constraint = {\n",
    "        'type': 'ineq',\n",
    "        'fun': lambda a: 1 - np.linalg.norm(a)  # 1 - ||a||_2 >= 0\n",
    "    }\n",
    "\n",
    "    # Optional: bounds to keep values in a reasonable range (e.g., [-1, 1])\n",
    "    bounds = [(-1, 1) for _ in range(d)]\n",
    "\n",
    "    # Solve the optimization problem\n",
    "    result = minimize(\n",
    "        objective_func,\n",
    "        x0=a0,\n",
    "        bounds=bounds,\n",
    "        constraints=[constraint]\n",
    "    )\n",
    "\n",
    "    if result.success:\n",
    "        return result.x\n",
    "    else:\n",
    "        raise ValueError(\"Optimization failed:\", result.message)"
   ]
  },
  {
   "cell_type": "markdown",
   "metadata": {},
   "source": [
    "OFUL implementation for continuous action space: "
   ]
  },
  {
   "cell_type": "code",
   "execution_count": 5,
   "metadata": {},
   "outputs": [],
   "source": [
    "def oful_p1(reg_parameter, d, horizon, theta, optimal_action, num_simulations):\n",
    "    \"\"\"\n",
    "    - Implementation of the OFUL algorithm where action space is a d-dimensional ball of radius 1.\n",
    "    - Ground truth theta is a d-dimensional vector\n",
    "    \"\"\"\n",
    "    \n",
    "    regrets = np.zeros(num_simulations)\n",
    "\n",
    "    for i in tqdm(range(num_simulations)):\n",
    "        # Initialize variables\n",
    "        cov = np.eye(d) * reg_parameter\n",
    "        theta_hat = np.zeros(d)\n",
    "\n",
    "        #mantain a list of vectors of rt*at\n",
    "        action_rewards = []\n",
    "        regret = 0\n",
    "    \n",
    "        for t in range(1, horizon+1):\n",
    "            beta_t = np.sqrt(d * np.log(t*horizon))\n",
    "            action = -1 * get_optimal_action_oful_p1(beta_t, cov, theta_hat, d)\n",
    "\n",
    "            # Observe the reward\n",
    "            reward = np.dot(theta, action) #+ np.random.normal(0, .1)\n",
    "\n",
    "            # Update the covariance matrix and theta_hat\n",
    "            cov += np.outer(action, action)\n",
    "            action_rewards.append(action*reward)\n",
    "            theta_hat = np.linalg.inv(cov).dot(np.sum(action_rewards, axis=0))\n",
    "\n",
    "            # Calculate the regret\n",
    "            regret += np.dot(theta, optimal_action) - np.dot(theta, action)\n",
    "\n",
    "        print(action)\n",
    "        print(np.linalg.norm(action))\n",
    "\n",
    "        regrets[i] = regret\n",
    "\n",
    "    return regrets"
   ]
  },
  {
   "cell_type": "code",
   "execution_count": 6,
   "metadata": {},
   "outputs": [
    {
     "name": "stderr",
     "output_type": "stream",
     "text": [
      "  0%|          | 0/1 [00:00<?, ?it/s]"
     ]
    },
    {
     "name": "stdout",
     "output_type": "stream",
     "text": [
      "Intel MKL WARNING: Support of Intel(R) Streaming SIMD Extensions 4.2 (Intel(R) SSE4.2) enabled only processors has been deprecated. Intel oneAPI Math Kernel Library 2025.0 will require Intel(R) Advanced Vector Extensions (Intel(R) AVX) instructions.\n"
     ]
    },
    {
     "name": "stderr",
     "output_type": "stream",
     "text": [
      "100%|██████████| 1/1 [00:08<00:00,  8.74s/it]"
     ]
    },
    {
     "name": "stdout",
     "output_type": "stream",
     "text": [
      "[-0. -0. -0. -0. -0.]\n",
      "0.0\n"
     ]
    },
    {
     "name": "stderr",
     "output_type": "stream",
     "text": [
      "\n"
     ]
    }
   ],
   "source": [
    "# try 5-d case where all elements of theta are 1/5\n",
    "d = 5\n",
    "theta = np.ones(d)*1/5\n",
    "optimal_action = get_optimal_action(theta, d)\n",
    "reg_parameter = 1\n",
    "horizon = 1000\n",
    "num_simulations = 1\n",
    "\n",
    "regrets = oful_p1(reg_parameter, d, horizon, theta, optimal_action, num_simulations)"
   ]
  },
  {
   "cell_type": "code",
   "execution_count": 7,
   "metadata": {},
   "outputs": [
    {
     "name": "stdout",
     "output_type": "stream",
     "text": [
      "Optimal action: [0.44721299 0.44721375 0.44721375 0.44721374 0.44721375]\n",
      "theta: [0.2 0.2 0.2 0.2 0.2]\n"
     ]
    }
   ],
   "source": [
    "print(\"Optimal action:\", optimal_action)\n",
    "print(\"theta:\", theta)"
   ]
  },
  {
   "cell_type": "markdown",
   "metadata": {},
   "source": [
    "Looks like the optimization code with scipy is not working. Here is the implementation of OFUL and UCB over the discrete action space: "
   ]
  },
  {
   "cell_type": "code",
   "execution_count": 8,
   "metadata": {},
   "outputs": [],
   "source": [
    "def get_optimal_action_oful_p2(beta_t, cov, theta_hat, action_set):\n",
    "    \"\"\"\n",
    "    Get the optimal action based on the current estimate of theta and the covariance matrix.\n",
    "    The action is in the discrete action set\n",
    "    \"\"\"\n",
    "\n",
    "    def objective_func(a):\n",
    "        a = np.asarray(a)\n",
    "        inner_prod = np.dot(theta_hat, a)\n",
    "        cov_inv = np.linalg.inv(cov)\n",
    "        bonus_term = np.sqrt(np.dot(a, np.dot(cov_inv, a))) * beta_t\n",
    "        total = inner_prod + bonus_term\n",
    "        return total\n",
    "\n",
    "    #try all actions in the action set and return the one that maximizes the objective_func \n",
    "    best_action = None\n",
    "    best_value = -np.inf\n",
    "    for action in action_set:\n",
    "        value = objective_func(action)\n",
    "        if value > best_value:\n",
    "            best_value = value\n",
    "            best_action = action\n",
    "\n",
    "    return best_action"
   ]
  },
  {
   "cell_type": "code",
   "execution_count": 9,
   "metadata": {},
   "outputs": [],
   "source": [
    "def oful_p2(reg_parameter, action_set, horizon, theta, optimal_action, num_simulations):\n",
    "    \"\"\"\n",
    "    - Implementation of the OFUL algorithm where action space is discrete\n",
    "    \"\"\"\n",
    "    d = action_set.shape[1]\n",
    "\n",
    "    regrets = np.zeros(num_simulations)\n",
    "\n",
    "    for i in tqdm(range(num_simulations)):\n",
    "        # Initialize variables\n",
    "        cov = np.eye(d) * reg_parameter\n",
    "        theta_hat = np.zeros(d)\n",
    "\n",
    "        #mantain a list of vectors of rt*at\n",
    "        action_rewards = []\n",
    "        regret = 0\n",
    "    \n",
    "        for t in range(1, horizon+1):\n",
    "            beta_t = np.sqrt(d * np.log(t * horizon))\n",
    "\n",
    "            action = get_optimal_action_oful_p2(beta_t, cov, theta_hat, action_set)\n",
    "\n",
    "            # Observe the reward\n",
    "            reward = np.dot(theta, action) + np.random.normal(0, 0.5)\n",
    "\n",
    "            # Update the covariance matrix and theta_hat\n",
    "            cov += np.outer(action, action)\n",
    "            action_rewards.append(action*reward)\n",
    "            theta_hat = np.linalg.inv(cov).dot(np.sum(action_rewards, axis=0))\n",
    "\n",
    "            # Calculate the regret\n",
    "            regret += np.dot(theta, optimal_action) - np.dot(theta, action)\n",
    "\n",
    "        regrets[i] = regret\n",
    "\n",
    "    return regrets"
   ]
  },
  {
   "cell_type": "code",
   "execution_count": 83,
   "metadata": {},
   "outputs": [],
   "source": [
    "def ucb_p2(action_set, horizon, theta, optimal_action, num_simulations):\n",
    "    \"\"\"\n",
    "    UCB for discrete action set where each action is an arm \n",
    "    \"\"\"\n",
    "    regret = np.zeros(num_simulations)\n",
    "\n",
    "    for i in tqdm(range(num_simulations)):\n",
    "\n",
    "        # Initialize variables\n",
    "        action_rewards = np.zeros(len(action_set))\n",
    "        action_counts = np.zeros(len(action_set))\n",
    "\n",
    "        regret_i = 0\n",
    "\n",
    "        #pull each arm once \n",
    "        for j in range(len(action_set)):\n",
    "            action = action_set[j]\n",
    "            reward = np.dot(theta, action) + np.random.normal(0, 0.5)\n",
    "            action_rewards[j] = reward\n",
    "            action_counts[j] += 1\n",
    "            regret_i += np.dot(theta, optimal_action) - np.dot(theta, action)\n",
    "\n",
    "        for t in range(len(action_set), horizon):\n",
    "            # Calculate the upper confidence bound for each action\n",
    "            ucb = action_rewards / action_counts + np.sqrt(2 * np.log(2*(horizon**2)*len(action_set)) / action_counts)\n",
    "\n",
    "            # Select the action with the highest UCB\n",
    "            action = action_set[np.argmax(ucb)]\n",
    "\n",
    "            # Observe the reward\n",
    "            reward = np.dot(theta, action) + np.random.normal(0, 0.5)\n",
    "            action_rewards[np.argmax(ucb)] += reward\n",
    "            action_counts[np.argmax(ucb)] += 1\n",
    "\n",
    "            # Calculate the regret\n",
    "            regret_i += np.dot(theta, optimal_action) - np.dot(theta, action)\n",
    "\n",
    "        regret[i] = regret_i\n",
    "\n",
    "    return regret\n",
    "    "
   ]
  },
  {
   "cell_type": "code",
   "execution_count": 78,
   "metadata": {},
   "outputs": [
    {
     "name": "stderr",
     "output_type": "stream",
     "text": [
      "100%|██████████| 5/5 [00:05<00:00,  1.14s/it]\n",
      "100%|██████████| 5/5 [00:00<00:00, 32.59it/s]\n",
      "100%|██████████| 5/5 [00:13<00:00,  2.67s/it]\n",
      "100%|██████████| 5/5 [00:00<00:00, 16.78it/s]\n",
      "100%|██████████| 5/5 [00:23<00:00,  4.76s/it]\n",
      "100%|██████████| 5/5 [00:00<00:00, 11.75it/s]\n",
      "100%|██████████| 5/5 [00:37<00:00,  7.41s/it]\n",
      "100%|██████████| 5/5 [00:00<00:00,  9.00it/s]\n",
      "100%|██████████| 5/5 [00:56<00:00, 11.37s/it]\n",
      "100%|██████████| 5/5 [00:00<00:00,  6.69it/s]\n",
      "100%|██████████| 5/5 [01:16<00:00, 15.31s/it]\n",
      "100%|██████████| 5/5 [00:00<00:00,  6.13it/s]\n",
      "100%|██████████| 5/5 [01:37<00:00, 19.43s/it]\n",
      "100%|██████████| 5/5 [00:00<00:00,  5.31it/s]\n",
      "100%|██████████| 5/5 [01:57<00:00, 23.48s/it]\n",
      "100%|██████████| 5/5 [00:01<00:00,  4.69it/s]\n",
      "100%|██████████| 5/5 [02:27<00:00, 29.44s/it]\n",
      "100%|██████████| 5/5 [00:01<00:00,  4.19it/s]\n",
      "100%|██████████| 5/5 [02:56<00:00, 35.39s/it]\n",
      "100%|██████████| 5/5 [00:01<00:00,  3.74it/s]\n"
     ]
    },
    {
     "data": {
      "image/png": "[encoded data removed]",
      "text/plain": [
       "<Figure size 640x480 with 1 Axes>"
      ]
     },
     "metadata": {},
     "output_type": "display_data"
    }
   ],
   "source": [
    "#Plot regret of oful_p2 and ucb_p2 on the same plot for different horizons \n",
    "\n",
    "action_set = np.array(list(np.ndindex(*([2]*5)))) * 2 - 1\n",
    "theta = np.array([1, -1, 1, -1, 1])\n",
    "optimal_action = theta\n",
    "reg_parameter = 1\n",
    "num_simulations = 5\n",
    "horizons = np.linspace(10**3, 10**4, 10).astype(int)\n",
    "\n",
    "regrets_oful = []\n",
    "regrets_ucb = []\n",
    "\n",
    "for horizon in horizons:\n",
    "    regrets_oful.append(np.mean(oful_p2(reg_parameter, action_set, horizon, theta, optimal_action, num_simulations)))\n",
    "    regrets_ucb.append(np.mean(ucb_p2(action_set, horizon, theta, optimal_action, num_simulations)))\n",
    "\n",
    "plt.plot(horizons, regrets_oful, label='OFUL', marker='o')\n",
    "plt.plot(horizons, regrets_ucb, label='UCB', marker='o')\n",
    "plt.xlabel('Horizon')\n",
    "plt.ylabel('Regret')\n",
    "plt.title('Regret of OFUL and UCB')\n",
    "plt.legend()\n",
    "plt.xscale('log')\n",
    "plt.yscale('log')\n",
    "plt.show()"
   ]
  }
 ],
 "metadata": {
  "kernelspec": {
   "display_name": "base",
   "language": "python",
   "name": "python3"
  },
  "language_info": {
   "codemirror_mode": {
    "name": "ipython",
    "version": 3
   },
   "file_extension": ".py",
   "mimetype": "text/x-python",
   "name": "python",
   "nbconvert_exporter": "python",
   "pygments_lexer": "ipython3",
   "version": "3.11.5"
  }
 },
 "nbformat": 4,
 "nbformat_minor": 2
}
